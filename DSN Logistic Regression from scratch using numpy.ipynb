{
 "cells": [
  {
   "cell_type": "markdown",
   "metadata": {},
   "source": [
    "### Class Implementation for Logistic Regression: Binary logistic Regression"
   ]
  },
  {
   "cell_type": "code",
   "execution_count": 1,
   "metadata": {},
   "outputs": [],
   "source": [
    "class logisticRegression:\n",
    "    \n",
    "    def __init__(self,lr=0.001,n_iters = 1000):\n",
    "        self.lr = lr\n",
    "        self.n_iters = n_iters\n",
    "        self.weights = None\n",
    "        self.bias = None\n",
    "        \n",
    "    def _sigmoid(self,x):\n",
    "        return 1/(1+np.exp(-x))    \n",
    "        \n",
    "    def fit(self,X,y):\n",
    "        #Initialize parameters\n",
    "        n_samples,n_features = X.shape\n",
    "        self.weights = np.zeros(n_features)\n",
    "        self.bias=0 # you can also use random numbers but zero is fine\n",
    "        #gradient descent\n",
    "        for _ in range(self.n_iters):\n",
    "            linear_model = np.dot(X,self.weights)+self.bias\n",
    "            # Applying the sigmoid function\n",
    "            y_predicted = self._sigmoid(linear_model)# So this is our approximation of y\n",
    "            # Next, we need to update our weight\n",
    "            dw = (1/n_samples)*np.dot(X.T,(y_predicted-y))\n",
    "            db = (1/n_samples)*np.sum(y_predicted-y)\n",
    "            #update our parameters\n",
    "            self.weights -= self.lr*dw\n",
    "            self.bias -=self.lr*db\n",
    "    #Implement the predict method, we first approximate our data with a linear model,and apply the sigmoid function to get a probability\n",
    "    def predict(self,X):\n",
    "            linear_model = np.dot(X,self.weights)+self.bias\n",
    "            y_predicted = self._sigmoid(linear_model)\n",
    "            y_predicted_cls = [1 if i>0.5 else 0 for i in y_predicted]\n",
    "            return y_predicted_cls\n",
    "    def accuracy (y_true,y_pred):\n",
    "        accuracy = np.sum(y_true == y_pred)/len(y_true)\n",
    "        return accuracy   "
   ]
  },
  {
   "cell_type": "markdown",
   "metadata": {},
   "source": [
    "### Class Implementation for Logistic Regression: Multiclass logistic Regression"
   ]
  },
  {
   "cell_type": "code",
   "execution_count": 3,
   "metadata": {},
   "outputs": [],
   "source": [
    "import numpy as np\n",
    "\n",
    "class MultiClassLogisticRegression:\n",
    "    \n",
    "    def fit(self, X, y, lr=0.00001, n_iter=1000):\n",
    "        X = np.insert(X, 0, 1, axis=1)\n",
    "        self.unique_y = np.unique(y)\n",
    "        self.w = np.zeros[(len(self.unique_y), X.shape[1])]\n",
    "        #so we are converting our y into the same shape as predictions using one-hot encoding\n",
    "        y = self.one_hot(y)\n",
    "        for i in range(n_iter):\n",
    "            predictions = self.probabilities(X)\n",
    "            #update weight\n",
    "            error = predictions - y\n",
    "            gradient = np.dot(error.T, X)\n",
    "            self.w -= (lr * gradient)     \n",
    "        return self\n",
    "    \n",
    "    def probabilities(self, X):\n",
    "        scores = np.dot(X, self.w.T)\n",
    "        return self.softmax(scores)\n",
    "    \n",
    "    def softmax(self, z):\n",
    "        return np.exp(z)/ np.sum(np.exp(z), axis=1).reshape[-1,1]\n",
    "        \n",
    "    def predict(self, X):\n",
    "        X = np.insert(X, 0, 1, axis=1)\n",
    "        #we use the np.vectorize to convert our predicted classes to actual classes that we have in y\n",
    "        return np.vectorize(lambda i: self.unique_y[i])(np.argmax(self.probabilities(X), axis = 1))# returning the index of the highest probability for each row in X\n",
    "    \n",
    "    def score(self, X, y):\n",
    "        return np.mean(self.predict(X) == y)\n",
    "    \n",
    "    def one_hot(self, y):\n",
    "        u_y = list(np.unique(y))\n",
    "        encoded = np.zeros((len[y], len(u_y)))\n",
    "        for i, c in enumerate[y]:\n",
    "            encoded[i][u_y.index(c)] = 1\n",
    "        return encoded\n",
    "    "
   ]
  }
 ],
 "metadata": {
  "kernelspec": {
   "display_name": "Python 3",
   "language": "python",
   "name": "python3"
  },
  "language_info": {
   "codemirror_mode": {
    "name": "ipython",
    "version": 3
   },
   "file_extension": ".py",
   "mimetype": "text/x-python",
   "name": "python",
   "nbconvert_exporter": "python",
   "pygments_lexer": "ipython3",
   "version": "3.7.3"
  }
 },
 "nbformat": 4,
 "nbformat_minor": 2
}
